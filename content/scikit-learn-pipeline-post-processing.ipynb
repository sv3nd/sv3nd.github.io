{
 "cells": [
  {
   "cell_type": "markdown",
   "metadata": {},
   "source": [
    "# Using model post-processor within scikit-learn pipelines\n"
   ]
  },
  {
   "cell_type": "markdown",
   "metadata": {},
   "source": [
    "\n",
    "## On the lack of post-processors\n",
    "\n",
    "[Pipelines](http://scikit-learn.org/stable/modules/pipeline.html#pipeline) are a very handy and central feature of the scikit-learn library that enable to chain sequences, or even, in a limited way, DAGs, of data transformers and one machine learning model. They greatly facilitate the application of cross-validation scoring or hyper-parameter search on the resulting pipeline as a whole. They also ease the productization of a machine learning exercise by providing one single encapsulated trained model that can be applied as one instance on a test set or integrated into a production product. \n",
    "  \n",
    "For a very clear introduction, see also the excellent [Using scikit-learn Pipelines and FeatureUnions](http://zacstewart.com/2014/08/05/pipelines-of-featureunions-of-pipelines.html) blog post by Zac Stewart.\n",
    " \n",
    "  "
   ]
  },
  {
   "cell_type": "markdown",
   "metadata": {},
   "source": [
    "The two aspects of the Pipeline architecture I want to focus on are: \n",
    "\n",
    "* each element of the pipeline, except maybe the last one, must be _transformers_, i.e. provide a `transform(X)` method\n",
    "* the last element of a pipeline can either be a _transformer_, in which case the result behaves like a grand-unified transformer, or a _predictor_, i.e. a element providing a `predict()` or `predict_proba()` (this is a simplification, see the actual API for details). In the later case, the resulting pipeline behaves like a predictor, can be used for scoring and can be used in a cross-validation pipeline. \n",
    "\n",
    "![scikit-learn pipeline](images/scikit-learn-pipeline-post-processing_sk_pipeline.png)\n",
    "\n",
    "I am not knowledgeable about nor experienced with  the scikit-learn architecure to understand the rationale of this choice. My naive reaction is that the distinction between the three functions (`transform()`, `predict()`and `predict_proba()` is of importance for other parts of the architecture, or present for historical reasons. My first apporach to this is that maybe just a single `transform()` function would have been enough and allows more composition flexibility. "
   ]
  },
  {
   "cell_type": "markdown",
   "metadata": {},
   "source": [
    "A restriction inherent to this design is the difficulty to place transformer _after_ the model. I can think however of several cases where that would come in handy: \n",
    "\n",
    "* To force a prediction to be within a known validity domain. For example, in [this Kaggle tutorial](https://www.kaggle.com/c/bike-sharing-demand), the output of the model is a count of bike usage events, so it must be integer and non-negative. If I use a model that does not guarantee that (say, a simple linear model), I'd like to be able to pipe the result into a transformer _before_ scoring the result. \n",
    "\n",
    "* Another (rather theoretical) example is simple composed models, like logistic regression, which stricto-senso is a learning model piped into a sigmoid transformer. \n",
    "\n",
    "![linear regression](images/scikit-learn-pipeline-post-processing_sk_pipeline_lin_reg.png)\n",
    "\n",
    "* Finall, model calibration techniques, like adjusting predicted probability to actually observed proportion within a validation set, could be implemented as post-processors."
   ]
  },
  {
   "cell_type": "markdown",
   "metadata": {},
   "source": [
    "## Existing workarounds\n",
    "\n",
    "Before introducing the simple wrappers I coded below, let's clarify that those \"limitation\" are not a showstopper.\n",
    "\n",
    "In the Kaggle example I gave above, an easy workaround consists in writting a custom scoring method that post-processes the model output before actually scoring it. This enables to have a correct score in each fold of the cross-validation loop: \n",
    "\n",
    "![post-processing in scorer](images/scikit-learn-pipeline-post-processing_sk_pipeline_sk_cross_val.png)\n",
    "\n",
    "In the case of logistic regression, [Scikit-learn is of course providing an implementation that includes the sigmoid as art of the model itself](http://scikit-learn.org/stable/modules/generated/sklearn.linear_model.LogisticRegression.html), this is working perfectly fine and poses no issues. My only point here is that if one was to re-implement a logistic regression algorithm today, this person would not be able to break it down as a several steps of a scikit-learn pipeline. \n",
    "\n",
    "![scikit-learn linear regression](images/scikit-learn-pipeline-post-processing_sk_pipeline_sk_lin_reg_pipe.png)\n",
    "\n",
    "In both cases, in term of software design we can see that the concept of transformation _leaks_ from the transformer itself to the nearest adjacent elements in the pipeline, either the scoring method or the model itself. "
   ]
  },
  {
   "cell_type": "markdown",
   "metadata": {},
   "source": [
    "## Allowing models anywhere in the pipeline\n",
    "\n",
    "A more general solution is to wrap the model such that it behaves like a tranformer. I'm not the author of this idea, some places where it has been hinted before are [here](https://github.com/scikit-learn/scikit-learn/issues/4143) and [here](https://github.com/scikit-learn/scikit-learn/pull/4552), among others. \n",
    "\n",
    "The class below achieves that very simply, by re-routing calls to `transform` to the underlying pipeline `predict()`:\n"
   ]
  },
  {
   "cell_type": "code",
   "execution_count": null,
   "metadata": {
    "collapsed": false
   },
   "outputs": [],
   "source": [
    "from sklearn.pipeline import Pipeline\n",
    "\n",
    "class TransformingPredictorPipeline(Pipeline):\n",
    "    \"\"\"\n",
    "    This allows to convert a predicting pipeline into a transforming pipeline.     \n",
    "\n",
    "    This seemed to work when I tested it on scikit-learn 0.18, but you'd rather not believe me.\n",
    "    \"\"\"\n",
    "    \n",
    "    def __init__(self, steps):\n",
    "        Pipeline.__init__(self, steps)\n",
    "        \n",
    "    def transform(self, X):\n",
    "        return self.predict(X)    \n",
    "    \n",
    "    def fit_transform(self, X, y=None, **fit_params):\n",
    "        return self.fit(X, y, **fit_params).predict(X)\n",
    "\n"
   ]
  },
  {
   "cell_type": "markdown",
   "metadata": {},
   "source": [
    "\n",
    "The converse transformation is also required: once we have transformed our prediction model into a transformer and appended some post-processor, we end up with a transformer pipeline. What we want though is a predicting pipeline, with a  `predict()` method, so that we can use it with a scoring method within a cross-validation loop. \n"
   ]
  },
  {
   "cell_type": "code",
   "execution_count": null,
   "metadata": {
    "collapsed": false
   },
   "outputs": [],
   "source": [
    "from sklearn.pipeline import Pipeline\n",
    "\n",
    "class PredictingTransformerPipeline(Pipeline):\n",
    "    \"\"\"\n",
    "    This is the reverse conversion of the above: we transform a transforming pipeline \n",
    "    into a predicting pipeline.     \n",
    "    \n",
    "    This seemed to work when I tested it on scikit-learn 0.18, but you'd rather not believe me.\n",
    "    \"\"\"\n",
    "    \n",
    "    def __init__(self, steps):\n",
    "        Pipeline.__init__(self, steps)\n",
    "        \n",
    "    def predict(self, X):\n",
    "        return self.transform(X)\n",
    "    \n",
    "    def fit_predict(self, X, y=None, **fit_params):\n",
    "        return self.fit(X, y, **fit_params).transform(X)    "
   ]
  },
  {
   "cell_type": "markdown",
   "metadata": {},
   "source": [
    "I realize those are quite invaluable snippets of code (ahem...), so not only am I blogging about them but also pushing them to my [data toolkit on github](https://github.com/svendx4f/datatoolkit)."
   ]
  },
  {
   "cell_type": "markdown",
   "metadata": {},
   "source": [
    "# Example"
   ]
  },
  {
   "cell_type": "markdown",
   "metadata": {},
   "source": [
    "Using the Kaggle tutorial example mentioned above, let's use a simple linear model to predict the event counts. An obvious issue is that the raw model outputs will be real values with no guarantee of being positive. \n",
    "\n",
    "A set of simple transformers to fix that are quickly written: "
   ]
  },
  {
   "cell_type": "code",
   "execution_count": 1,
   "metadata": {
    "collapsed": true
   },
   "outputs": [],
   "source": [
    "import sys\n",
    "import numpy as np\n",
    "from sklearn.base import TransformerMixin, BaseEstimator\n",
    "    \n",
    "class NonNegativeTransformer(TransformerMixin, BaseEstimator):\n",
    "    \n",
    "    def transform(self, X, y=None):\n",
    "        \"\"\"\n",
    "        Replaces any negative value with its closest known valid value: 0\n",
    "        \"\"\"        \n",
    "        \n",
    "        return np.clip(X, a_min=0, a_max=sys.maxint) \n",
    "\n",
    "    def fit(self, X, y=None):\n",
    "        return self  \n",
    "        \n",
    "        \n",
    "class AsIntegerTransformer(TransformerMixin, BaseEstimator):\n",
    "\n",
    "    def transform(self, X, y=None):\n",
    "        \"\"\"\n",
    "        Replaces any non integer value with its closest known valid value\n",
    "        \"\"\"\n",
    "        \n",
    "        return np.round(X).astype(int)        \n",
    "\n",
    "    def fit(self, X, y=None):\n",
    "        return self  \n",
    "    "
   ]
  },
  {
   "cell_type": "markdown",
   "metadata": {},
   "source": [
    "This allows write a pipeline as follows (I like to tell myself that this is very readable): "
   ]
  },
  {
   "cell_type": "code",
   "execution_count": null,
   "metadata": {
    "collapsed": false
   },
   "outputs": [],
   "source": [
    "from sklearn.preprocessing import StandardScaler\n",
    "from sklearn.pipeline import Pipeline, FeatureUnion\n",
    "from sklearn.decomposition import PCA\n",
    "from sklearn.linear_model import ElasticNet\n",
    "\n",
    "# name of one-hot encoded nominal features\n",
    "nominal_enc_features = [\n",
    "    \"season_fall\", \"season_spring\", \"season_summer\", \"season_winter\", \n",
    "    \"weather_clear\", \"weather_cloudy\", \"weather_misty\"]\n",
    "\n",
    "# name of numerical features\n",
    "num_features = [\"temp\", \"humidity\", \"windspeed\", \"hourly_dist\"]\n",
    "\n",
    "the_pipe = PredictingTransformerPipeline([\n",
    "        (\"main_learning_pp\", TransformingPredictorPipeline([\n",
    "          (\"1d-pre-process\", FeatureUnion([\n",
    "            (\"nominal_feat_passthrough\", Columns_Selector(nominal_enc_features)), \n",
    "            (\"numerical_feat_encoding\", Pipeline([\n",
    "              (\"num_cols\", Columns_Selector(num_features)),\n",
    "              (\"scaler\", StandardScaler())])\n",
    "            )])\n",
    "          ),\n",
    "          (\"pca\", PCA()), \n",
    "          (\"lr\", ElasticNet())])\n",
    "       ),\n",
    "      (\"to_integer\", AsIntegerTransformer()),\n",
    "      (\"to_non_negative\", NonNegativeTransformer()),\n",
    "    ])        "
   ]
  },
  {
   "cell_type": "markdown",
   "metadata": {},
   "source": [
    "`main_learning_pp` is really just a very basic pipeline, with one `1d-pre-proces` step to scale numerical features, one PCA dimensionality reduction, and finaly one lineare model. As discussed above, I wrap this into a `TransformingPredictorPipeline` in order to make it behave like a transformer. \n",
    "\n",
    "The main point of this example is what comes next: we can now place the two supplementary post-processors as promised: `to_integer` and `to_non_negative`. \n",
    "\n",
    "Finaly, in order to be able to score this as part of a cross-validation loop, we need this to behave like predictor, so we wrap it again, this time within `TransformingPredictorPipeline`.\n",
    "\n",
    "![example pipeline with post-processors](images/scikit-learn-pipeline-post-processing_sk_pipeline_final_pipeline.png)\n",
    "\n",
    "An example usage is provided below: "
   ]
  },
  {
   "cell_type": "code",
   "execution_count": null,
   "metadata": {
    "collapsed": false,
    "scrolled": false
   },
   "outputs": [],
   "source": [
    "from sklearn.model_selection import GridSearchCV\n",
    "\n",
    "param_grid = [\n",
    "    {\"main_learning_pp__pca__n_components\": [ 4, 5],\n",
    "     \"main_learning_pp__lr__l1_ratio\": [ .5,  .85, .9, .95, 1],\n",
    "     \"main_learning_pp__lr__max_iter\": [500],\n",
    "     \"main_learning_pp__lr__alpha\": [ .5, .75]\n",
    "    }\n",
    "]\n",
    "\n",
    "gs = GridSearchCV(estimator=the_pipe,\n",
    "                  param_grid=param_grid, \n",
    "                  scoring=neg_rmsle_score, \n",
    "                  cv=10, \n",
    "                  n_jobs=1)\n",
    "\n",
    "fitted_reg_model = gs.fit(X=reg_data_X_train, y=reg_data_Y_train.values)"
   ]
  },
  {
   "cell_type": "markdown",
   "metadata": {},
   "source": [
    "# Conclusion\n",
    "\n",
    "I find that removing the distinction between `transform()`, `predict()` and `predict_proba()` and letting everything behave like a transformer adds a lot of flexibility to the pipelines. \n",
    "\n",
    "One direction I have note explored here is to use _several models_ in the pipeline, combining them with [FeatureUnion](http://scikit-learn.org/stable/modules/generated/sklearn.pipeline.FeatureUnion.html#sklearn.pipeline.FeatureUnion) could easily let us designed [stacked ensembles](http://docs.rapidminer.com/studio/operators/modeling/predictive/ensembles/stacking.html) directly as scikit-learn pipelines! Given that stacking potentially augments tremendously the number of degrees of freedom of a model, it's very prone to overfitting, so it might be positive to be able to tune them as a whole, e.g. in a scikit-learn cross-validation loop. Now there is, of course, an obvious computational cost to that approach. To be digged later...\n",
    "\n"
   ]
  }
 ],
 "metadata": {
  "kernelspec": {
   "display_name": "Python 2",
   "language": "python",
   "name": "python2"
  },
  "language_info": {
   "codemirror_mode": {
    "name": "ipython",
    "version": 2
   },
   "file_extension": ".py",
   "mimetype": "text/x-python",
   "name": "python",
   "nbconvert_exporter": "python",
   "pygments_lexer": "ipython2",
   "version": "2.7.12"
  }
 },
 "nbformat": 4,
 "nbformat_minor": 0
}
